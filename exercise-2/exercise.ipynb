{
 "cells": [
  {
   "cell_type": "markdown",
   "metadata": {},
   "source": [
    "# Exercise-2\n",
    "Add the specified code for each code cell, running the cells _in order_."
   ]
  },
  {
   "cell_type": "markdown",
   "metadata": {},
   "source": [
    "Run the below cell to import `pandas` and `numpy`"
   ]
  },
  {
   "cell_type": "code",
   "execution_count": 1,
   "metadata": {
    "collapsed": false
   },
   "outputs": [],
   "source": [
    "import pandas as pd\n",
    "import numpy as np"
   ]
  },
  {
   "cell_type": "markdown",
   "metadata": {},
   "source": [
    "Create a Series of 100 employees \"names\" (\"Employee 1\", \"Employee 2\", ... \"Employee 100\"). _Tip:_ use a list comprehension to produce the list of strings!\n",
    "- Use the `head()` and `tail()` methods to view the first and last 3 employees to check your work."
   ]
  },
  {
   "cell_type": "code",
   "execution_count": 2,
   "metadata": {
    "collapsed": false
   },
   "outputs": [
    {
     "name": "stdout",
     "output_type": "stream",
     "text": [
      "0    Employee 1\n",
      "1    Employee 2\n",
      "2    Employee 3\n",
      "dtype: object\n",
      "97     Employee 98\n",
      "98     Employee 99\n",
      "99    Employee 100\n",
      "dtype: object\n"
     ]
    }
   ],
   "source": [
    "employees = pd.Series(['Employee '+str(num) for num in range(1,101)])\n",
    "print(employees.head(3))\n",
    "print(employees.tail(3))"
   ]
  },
  {
   "cell_type": "markdown",
   "metadata": {},
   "source": [
    "Create a Series of 100 random salaries for the year 2015. These should be uniformly distributed bwteen 40000 and 50000. _Hint:_ try using the [`numpy.random.uniform()`](https://docs.scipy.org/doc/numpy/reference/generated/numpy.random.uniform.html) function, or call the Python `random.uniform()` function repeatedly.\n",
    "- This is not a liveable wage in Seattle, and in fact is below US median :("
   ]
  },
  {
   "cell_type": "code",
   "execution_count": 3,
   "metadata": {
    "collapsed": false
   },
   "outputs": [],
   "source": [
    "salaries_2015 = pd.Series(np.random.uniform(40000,50000,100))"
   ]
  },
  {
   "cell_type": "markdown",
   "metadata": {},
   "source": [
    "Create a Series of 100 salaries in 2016 that have changed from 2015 by a random amount between -5000 and 10000."
   ]
  },
  {
   "cell_type": "code",
   "execution_count": 4,
   "metadata": {
    "collapsed": false
   },
   "outputs": [],
   "source": [
    "salaries_2016 = salaries_2015 + np.random.uniform(-5000,10000,100)"
   ]
  },
  {
   "cell_type": "markdown",
   "metadata": {},
   "source": [
    "Create a DataFrame **`salaries`** by combining the three Series you just made."
   ]
  },
  {
   "cell_type": "code",
   "execution_count": 5,
   "metadata": {
    "collapsed": true
   },
   "outputs": [],
   "source": [
    "salaries = pd.DataFrame({'employee':employees, \n",
    "                         'salary_2015':salaries_2015, \n",
    "                         'salary_2016':salaries_2016})"
   ]
  },
  {
   "cell_type": "markdown",
   "metadata": {},
   "source": [
    "Print the first 10 rows in the `salaries` DataFrame."
   ]
  },
  {
   "cell_type": "code",
   "execution_count": 6,
   "metadata": {
    "collapsed": false
   },
   "outputs": [
    {
     "name": "stdout",
     "output_type": "stream",
     "text": [
      "      employee   salary_2015   salary_2016\n",
      "0   Employee 1  40136.967805  39127.658671\n",
      "1   Employee 2  40692.134165  50569.260624\n",
      "2   Employee 3  44633.414751  53665.265272\n",
      "3   Employee 4  43953.986115  43283.951164\n",
      "4   Employee 5  47924.593991  57680.330749\n",
      "5   Employee 6  46969.033756  49764.181001\n",
      "6   Employee 7  48471.947520  45641.443864\n",
      "7   Employee 8  42038.209698  48194.739651\n",
      "8   Employee 9  44602.341728  40716.605824\n",
      "9  Employee 10  47669.430892  46014.135558\n"
     ]
    }
   ],
   "source": [
    "print(salaries.head(10))"
   ]
  },
  {
   "cell_type": "markdown",
   "metadata": {},
   "source": [
    "Add a column `change` to your DataFrame that contains the \"change\" in salary between 2016 and 2015."
   ]
  },
  {
   "cell_type": "code",
   "execution_count": 7,
   "metadata": {
    "collapsed": false
   },
   "outputs": [],
   "source": [
    "salaries['change'] = salaries.salary_2016 - salaries.salary_2015"
   ]
  },
  {
   "cell_type": "markdown",
   "metadata": {},
   "source": [
    "Add a column `got_raise` to your DataFrame that is `True` if the employee got a raise (their salary increased) in 2016."
   ]
  },
  {
   "cell_type": "code",
   "execution_count": 8,
   "metadata": {
    "collapsed": false
   },
   "outputs": [
    {
     "name": "stdout",
     "output_type": "stream",
     "text": [
      "     employee   salary_2015   salary_2016       change got_raise\n",
      "0  Employee 1  40136.967805  39127.658671 -1009.309134     False\n",
      "1  Employee 2  40692.134165  50569.260624  9877.126459      True\n",
      "2  Employee 3  44633.414751  53665.265272  9031.850522      True\n",
      "3  Employee 4  43953.986115  43283.951164  -670.034952     False\n",
      "4  Employee 5  47924.593991  57680.330749  9755.736758      True\n"
     ]
    }
   ],
   "source": [
    "salaries['got_raise'] = salaries.change > 0\n",
    "print(salaries.head(5))"
   ]
  },
  {
   "cell_type": "markdown",
   "metadata": {},
   "source": [
    "**Retrieve values from the `salaries` DataFrame to answer the following questions. Try to get as specific a value as possible (e.g., a single value rather than the whole row!)**"
   ]
  },
  {
   "cell_type": "markdown",
   "metadata": {},
   "source": [
    "What was the 2016 salary of Employee 57?"
   ]
  },
  {
   "cell_type": "code",
   "execution_count": 9,
   "metadata": {
    "collapsed": false
   },
   "outputs": [
    {
     "data": {
      "text/plain": [
       "48486.967865129598"
      ]
     },
     "execution_count": 9,
     "metadata": {},
     "output_type": "execute_result"
    }
   ],
   "source": [
    "salary_57_in_2016 = salaries.loc[58,'salary_2016']\n",
    "salary_57_in_2016"
   ]
  },
  {
   "cell_type": "markdown",
   "metadata": {},
   "source": [
    "How many employees got a raise? (It should be around 2/3rds)"
   ]
  },
  {
   "cell_type": "code",
   "execution_count": 10,
   "metadata": {
    "collapsed": false
   },
   "outputs": [
    {
     "data": {
      "text/plain": [
       "55"
      ]
     },
     "execution_count": 10,
     "metadata": {},
     "output_type": "execute_result"
    }
   ],
   "source": [
    "len(salaries[salaries.got_raise == True])"
   ]
  },
  {
   "cell_type": "markdown",
   "metadata": {},
   "source": [
    "What was the amount of the largest raise?"
   ]
  },
  {
   "cell_type": "code",
   "execution_count": 11,
   "metadata": {
    "collapsed": false
   },
   "outputs": [
    {
     "data": {
      "text/plain": [
       "9877.1264594761451"
      ]
     },
     "execution_count": 11,
     "metadata": {},
     "output_type": "execute_result"
    }
   ],
   "source": [
    "highest_raise = salaries.change.max()\n",
    "highest_raise"
   ]
  },
  {
   "cell_type": "markdown",
   "metadata": {},
   "source": [
    "What was the \"name\" of the employee who received the highest raise?"
   ]
  },
  {
   "cell_type": "code",
   "execution_count": 12,
   "metadata": {
    "collapsed": false
   },
   "outputs": [
    {
     "data": {
      "text/plain": [
       "'Employee 2'"
      ]
     },
     "execution_count": 12,
     "metadata": {},
     "output_type": "execute_result"
    }
   ],
   "source": [
    "# many approaches for this\n",
    "salaries.loc[salaries.change == highest_raise, 'employee'].iloc[0]"
   ]
  },
  {
   "cell_type": "markdown",
   "metadata": {},
   "source": [
    "What is the 2016 salary of the person who received the largest payment (decrease in salary) between the two years?"
   ]
  },
  {
   "cell_type": "code",
   "execution_count": 13,
   "metadata": {
    "collapsed": false
   },
   "outputs": [
    {
     "data": {
      "text/plain": [
       "36362.208254830461"
      ]
     },
     "execution_count": 13,
     "metadata": {},
     "output_type": "execute_result"
    }
   ],
   "source": [
    "# many approaches for this as well\n",
    "salaries.loc[salaries.change == salaries.change.min(), 'salary_2016'].iloc[0]"
   ]
  }
 ],
 "metadata": {
  "kernelspec": {
   "display_name": "Python 3",
   "language": "python",
   "name": "python3"
  },
  "language_info": {
   "codemirror_mode": {
    "name": "ipython",
    "version": 3
   },
   "file_extension": ".py",
   "mimetype": "text/x-python",
   "name": "python",
   "nbconvert_exporter": "python",
   "pygments_lexer": "ipython3",
   "version": "3.6.0"
  },
  "toc": {
   "colors": {
    "hover_highlight": "#DAA520",
    "running_highlight": "#FF0000",
    "selected_highlight": "#FFD700"
   },
   "moveMenuLeft": true,
   "nav_menu": {
    "height": "30px",
    "width": "252px"
   },
   "navigate_menu": true,
   "number_sections": true,
   "sideBar": true,
   "threshold": 4,
   "toc_cell": false,
   "toc_section_display": "block",
   "toc_window_display": false,
   "widenNotebook": false
  }
 },
 "nbformat": 4,
 "nbformat_minor": 2
}
